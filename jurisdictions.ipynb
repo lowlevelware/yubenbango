{
 "cells": [
  {
   "cell_type": "code",
   "execution_count": 9,
   "outputs": [],
   "source": [
    "import polars as pl"
   ],
   "metadata": {
    "collapsed": false,
    "ExecuteTime": {
     "end_time": "2023-10-21T11:19:21.276716Z",
     "start_time": "2023-10-21T11:19:21.269995Z"
    }
   },
   "id": "d1be6b105d85e1eb"
  },
  {
   "cell_type": "code",
   "execution_count": 10,
   "outputs": [],
   "source": [
    "locale = 'en'\n",
    "jurisdiction = 'prefecture_romaji' if locale == 'en' else 'prefecture'"
   ],
   "metadata": {
    "collapsed": false,
    "ExecuteTime": {
     "end_time": "2023-10-21T11:19:21.279119Z",
     "start_time": "2023-10-21T11:19:21.273357Z"
    }
   },
   "id": "369d0bd5b424e342"
  },
  {
   "cell_type": "code",
   "execution_count": 22,
   "outputs": [
    {
     "data": {
      "text/plain": "(142747, 6)"
     },
     "execution_count": 22,
     "metadata": {},
     "output_type": "execute_result"
    }
   ],
   "source": [
    "df = pl.read_csv(\"data/jurisdiction.csv\", dtypes={'zip3': str, 'zip5': str, 'zip7': str})\n",
    "df = df.with_columns(df['zip7'].map_elements(lambda x: x[:2]).alias('zip2'))\n",
    "df.head()"
   ],
   "metadata": {
    "collapsed": false,
    "ExecuteTime": {
     "end_time": "2023-10-21T11:25:56.191677Z",
     "start_time": "2023-10-21T11:25:56.063846Z"
    }
   },
   "id": "d1e3ec7a34d2adbc"
  },
  {
   "cell_type": "code",
   "execution_count": 24,
   "outputs": [
    {
     "data": {
      "text/plain": "shape: (47, 2)\n┌───────────────┬───────────────────┐\n│ todofuken     ┆ postal_code_count │\n│ ---           ┆ ---               │\n│ str           ┆ u32               │\n╞═══════════════╪═══════════════════╡\n│ Kagoshima ken ┆ 1707              │\n│ Chiba ken     ┆ 4232              │\n│ Wakayama ken  ┆ 1733              │\n│ Gunma ken     ┆ 1781              │\n│ …             ┆ …                 │\n│ Mie ken       ┆ 2764              │\n│ Ibaraki ken   ┆ 3163              │\n│ Kagawa ken    ┆ 968               │\n│ Shiga ken     ┆ 2027              │\n└───────────────┴───────────────────┘",
      "text/html": "<div><style>\n.dataframe > thead > tr > th,\n.dataframe > tbody > tr > td {\n  text-align: right;\n  white-space: pre-wrap;\n}\n</style>\n<small>shape: (47, 2)</small><table border=\"1\" class=\"dataframe\"><thead><tr><th>todofuken</th><th>postal_code_count</th></tr><tr><td>str</td><td>u32</td></tr></thead><tbody><tr><td>&quot;Kagoshima ken&quot;</td><td>1707</td></tr><tr><td>&quot;Chiba ken&quot;</td><td>4232</td></tr><tr><td>&quot;Wakayama ken&quot;</td><td>1733</td></tr><tr><td>&quot;Gunma ken&quot;</td><td>1781</td></tr><tr><td>&quot;Ooita ken&quot;</td><td>2000</td></tr><tr><td>&quot;Yamaguchi ken&quot;</td><td>1901</td></tr><tr><td>&quot;Saitama ken&quot;</td><td>3664</td></tr><tr><td>&quot;Kanagawa ken&quot;</td><td>3127</td></tr><tr><td>&quot;Toyama ken&quot;</td><td>3327</td></tr><tr><td>&quot;Gifu ken&quot;</td><td>3769</td></tr><tr><td>&quot;Hokkaidou&quot;</td><td>9216</td></tr><tr><td>&quot;Fukuoka ken&quot;</td><td>4138</td></tr><tr><td>&hellip;</td><td>&hellip;</td></tr><tr><td>&quot;Nagasaki ken&quot;</td><td>2109</td></tr><tr><td>&quot;Hiroshima ken&quot;</td><td>2622</td></tr><tr><td>&quot;Shizuoka ken&quot;</td><td>3638</td></tr><tr><td>&quot;Okinawa ken&quot;</td><td>1049</td></tr><tr><td>&quot;Hyougo ken&quot;</td><td>5629</td></tr><tr><td>&quot;Okayama ken&quot;</td><td>2569</td></tr><tr><td>&quot;Miyazaki ken&quot;</td><td>1042</td></tr><tr><td>&quot;Osaka fu&quot;</td><td>4703</td></tr><tr><td>&quot;Mie ken&quot;</td><td>2764</td></tr><tr><td>&quot;Ibaraki ken&quot;</td><td>3163</td></tr><tr><td>&quot;Kagawa ken&quot;</td><td>968</td></tr><tr><td>&quot;Shiga ken&quot;</td><td>2027</td></tr></tbody></table></div>"
     },
     "execution_count": 24,
     "metadata": {},
     "output_type": "execute_result"
    }
   ],
   "source": [
    "df.group_by(jurisdiction).agg(pl.col(\"zip7\").count().alias(\"zip7_count\"))"
   ],
   "metadata": {
    "collapsed": false,
    "ExecuteTime": {
     "end_time": "2023-10-21T11:26:42.736893Z",
     "start_time": "2023-10-21T11:26:42.726898Z"
    }
   },
   "id": "88af5c33e2e0cb24"
  },
  {
   "cell_type": "code",
   "execution_count": 26,
   "outputs": [
    {
     "data": {
      "text/plain": "shape: (47, 2)\n┌───────────────┬────────────┐\n│ todofuken     ┆ zip5_count │\n│ ---           ┆ ---        │\n│ str           ┆ u32        │\n╞═══════════════╪════════════╡\n│ Ibaraki ken   ┆ 145        │\n│ Fukushima ken ┆ 212        │\n│ Yamanashi ken ┆ 68         │\n│ Aichi ken     ┆ 313        │\n│ …             ┆ …          │\n│ Nara ken      ┆ 88         │\n│ Kanagawa ken  ┆ 172        │\n│ Chiba ken     ┆ 184        │\n│ Kyoto fu      ┆ 193        │\n└───────────────┴────────────┘",
      "text/html": "<div><style>\n.dataframe > thead > tr > th,\n.dataframe > tbody > tr > td {\n  text-align: right;\n  white-space: pre-wrap;\n}\n</style>\n<small>shape: (47, 2)</small><table border=\"1\" class=\"dataframe\"><thead><tr><th>todofuken</th><th>zip5_count</th></tr><tr><td>str</td><td>u32</td></tr></thead><tbody><tr><td>&quot;Ibaraki ken&quot;</td><td>145</td></tr><tr><td>&quot;Fukushima ken&quot;</td><td>212</td></tr><tr><td>&quot;Yamanashi ken&quot;</td><td>68</td></tr><tr><td>&quot;Aichi ken&quot;</td><td>313</td></tr><tr><td>&quot;Akita ken&quot;</td><td>132</td></tr><tr><td>&quot;Aomori ken&quot;</td><td>106</td></tr><tr><td>&quot;Gunma ken&quot;</td><td>91</td></tr><tr><td>&quot;Iwate ken&quot;</td><td>141</td></tr><tr><td>&quot;Niigata ken&quot;</td><td>226</td></tr><tr><td>&quot;Miyazaki ken&quot;</td><td>95</td></tr><tr><td>&quot;Saitama ken&quot;</td><td>173</td></tr><tr><td>&quot;Nagano ken&quot;</td><td>200</td></tr><tr><td>&hellip;</td><td>&hellip;</td></tr><tr><td>&quot;Hokkaidou&quot;</td><td>604</td></tr><tr><td>&quot;Tokyo to&quot;</td><td>480</td></tr><tr><td>&quot;Yamagata ken&quot;</td><td>124</td></tr><tr><td>&quot;Osaka fu&quot;</td><td>222</td></tr><tr><td>&quot;Kumamoto ken&quot;</td><td>139</td></tr><tr><td>&quot;Ishikawa ken&quot;</td><td>96</td></tr><tr><td>&quot;Tochigi ken&quot;</td><td>110</td></tr><tr><td>&quot;Ehime ken&quot;</td><td>112</td></tr><tr><td>&quot;Nara ken&quot;</td><td>88</td></tr><tr><td>&quot;Kanagawa ken&quot;</td><td>172</td></tr><tr><td>&quot;Chiba ken&quot;</td><td>184</td></tr><tr><td>&quot;Kyoto fu&quot;</td><td>193</td></tr></tbody></table></div>"
     },
     "execution_count": 26,
     "metadata": {},
     "output_type": "execute_result"
    }
   ],
   "source": [
    "cat = 'zip2'\n",
    "df_cat = df.select([cat, jurisdiction])\n",
    "df_cat = df_cat.group_by(cat).agg(pl.col(jurisdiction).first())\n",
    "df_cat.head()"
   ],
   "metadata": {
    "collapsed": false,
    "ExecuteTime": {
     "end_time": "2023-10-21T11:27:18.765494Z",
     "start_time": "2023-10-21T11:27:18.749033Z"
    }
   },
   "id": "2bd7b291610e878c"
  },
  {
   "cell_type": "code",
   "execution_count": 27,
   "outputs": [
    {
     "data": {
      "text/plain": "shape: (47, 2)\n┌──────────────┬────────────┐\n│ todofuken    ┆ zip3_count │\n│ ---          ┆ ---        │\n│ str          ┆ u32        │\n╞══════════════╪════════════╡\n│ Shimane ken  ┆ 12         │\n│ Shiga ken    ┆ 10         │\n│ Miyazaki ken ┆ 10         │\n│ Wakayama ken ┆ 10         │\n│ …            ┆ …          │\n│ Kagawa ken   ┆ 10         │\n│ Tottori ken  ┆ 6          │\n│ Aomori ken   ┆ 10         │\n│ Saga ken     ┆ 10         │\n└──────────────┴────────────┘",
      "text/html": "<div><style>\n.dataframe > thead > tr > th,\n.dataframe > tbody > tr > td {\n  text-align: right;\n  white-space: pre-wrap;\n}\n</style>\n<small>shape: (47, 2)</small><table border=\"1\" class=\"dataframe\"><thead><tr><th>todofuken</th><th>zip3_count</th></tr><tr><td>str</td><td>u32</td></tr></thead><tbody><tr><td>&quot;Shimane ken&quot;</td><td>12</td></tr><tr><td>&quot;Shiga ken&quot;</td><td>10</td></tr><tr><td>&quot;Miyazaki ken&quot;</td><td>10</td></tr><tr><td>&quot;Wakayama ken&quot;</td><td>10</td></tr><tr><td>&quot;Tokyo to&quot;</td><td>94</td></tr><tr><td>&quot;Kyoto fu&quot;</td><td>28</td></tr><tr><td>&quot;Tochigi ken&quot;</td><td>12</td></tr><tr><td>&quot;Yamagata ken&quot;</td><td>10</td></tr><tr><td>&quot;Ooita ken&quot;</td><td>11</td></tr><tr><td>&quot;Fukushima ken&quot;</td><td>18</td></tr><tr><td>&quot;Miyagi ken&quot;</td><td>10</td></tr><tr><td>&quot;Nagasaki ken&quot;</td><td>13</td></tr><tr><td>&hellip;</td><td>&hellip;</td></tr><tr><td>&quot;Kouchi ken&quot;</td><td>10</td></tr><tr><td>&quot;Fukuoka ken&quot;</td><td>40</td></tr><tr><td>&quot;Aichi ken&quot;</td><td>60</td></tr><tr><td>&quot;Hyougo ken&quot;</td><td>32</td></tr><tr><td>&quot;Okayama ken&quot;</td><td>20</td></tr><tr><td>&quot;Okinawa ken&quot;</td><td>8</td></tr><tr><td>&quot;Tokushima ken&quot;</td><td>10</td></tr><tr><td>&quot;Akita ken&quot;</td><td>10</td></tr><tr><td>&quot;Kagawa ken&quot;</td><td>10</td></tr><tr><td>&quot;Tottori ken&quot;</td><td>6</td></tr><tr><td>&quot;Aomori ken&quot;</td><td>10</td></tr><tr><td>&quot;Saga ken&quot;</td><td>10</td></tr></tbody></table></div>"
     },
     "execution_count": 27,
     "metadata": {},
     "output_type": "execute_result"
    }
   ],
   "source": [
    "df.group_by('prefecture_romaji').agg(pl.col(cat).count().alias(f\"{cat}_count\"))"
   ],
   "metadata": {
    "collapsed": false,
    "ExecuteTime": {
     "end_time": "2023-10-21T11:27:21.718672Z",
     "start_time": "2023-10-21T11:27:21.708346Z"
    }
   },
   "id": "ebc7ce9c55862bac"
  },
  {
   "cell_type": "code",
   "execution_count": 28,
   "outputs": [
    {
     "data": {
      "text/plain": "shape: (47, 2)\n┌───────────────┬────────────┐\n│ todofuken     ┆ zip2_count │\n│ ---           ┆ ---        │\n│ str           ┆ u32        │\n╞═══════════════╪════════════╡\n│ Kanagawa ken  ┆ 5          │\n│ Hyougo ken    ┆ 5          │\n│ Miyagi ken    ┆ 1          │\n│ Gunma ken     ┆ 2          │\n│ …             ┆ …          │\n│ Wakayama ken  ┆ 1          │\n│ Yamanashi ken ┆ 1          │\n│ Ehime ken     ┆ 1          │\n│ Niigata ken   ┆ 3          │\n└───────────────┴────────────┘",
      "text/html": "<div><style>\n.dataframe > thead > tr > th,\n.dataframe > tbody > tr > td {\n  text-align: right;\n  white-space: pre-wrap;\n}\n</style>\n<small>shape: (47, 2)</small><table border=\"1\" class=\"dataframe\"><thead><tr><th>todofuken</th><th>zip2_count</th></tr><tr><td>str</td><td>u32</td></tr></thead><tbody><tr><td>&quot;Kanagawa ken&quot;</td><td>5</td></tr><tr><td>&quot;Hyougo ken&quot;</td><td>5</td></tr><tr><td>&quot;Miyagi ken&quot;</td><td>1</td></tr><tr><td>&quot;Gunma ken&quot;</td><td>2</td></tr><tr><td>&quot;Okayama ken&quot;</td><td>2</td></tr><tr><td>&quot;Yamaguchi ken&quot;</td><td>2</td></tr><tr><td>&quot;Fukushima ken&quot;</td><td>2</td></tr><tr><td>&quot;Gifu ken&quot;</td><td>1</td></tr><tr><td>&quot;Fukuoka ken&quot;</td><td>5</td></tr><tr><td>&quot;Nara ken&quot;</td><td>2</td></tr><tr><td>&quot;Aomori ken&quot;</td><td>2</td></tr><tr><td>&quot;Okinawa ken&quot;</td><td>1</td></tr><tr><td>&hellip;</td><td>&hellip;</td></tr><tr><td>&quot;Kagoshima ken&quot;</td><td>1</td></tr><tr><td>&quot;Fukui ken&quot;</td><td>2</td></tr><tr><td>&quot;Nagano ken&quot;</td><td>3</td></tr><tr><td>&quot;Ishikawa ken&quot;</td><td>2</td></tr><tr><td>&quot;Ooita ken&quot;</td><td>2</td></tr><tr><td>&quot;Aichi ken&quot;</td><td>7</td></tr><tr><td>&quot;Kyoto fu&quot;</td><td>4</td></tr><tr><td>&quot;Tottori ken&quot;</td><td>1</td></tr><tr><td>&quot;Wakayama ken&quot;</td><td>1</td></tr><tr><td>&quot;Yamanashi ken&quot;</td><td>1</td></tr><tr><td>&quot;Ehime ken&quot;</td><td>1</td></tr><tr><td>&quot;Niigata ken&quot;</td><td>3</td></tr></tbody></table></div>"
     },
     "execution_count": 28,
     "metadata": {},
     "output_type": "execute_result"
    }
   ],
   "source": [],
   "metadata": {
    "collapsed": false,
    "ExecuteTime": {
     "end_time": "2023-10-21T11:27:24.906117Z",
     "start_time": "2023-10-21T11:27:24.890294Z"
    }
   },
   "id": "ea7c7be332f784c7"
  }
 ],
 "metadata": {
  "kernelspec": {
   "display_name": "Python 3",
   "language": "python",
   "name": "python3"
  },
  "language_info": {
   "codemirror_mode": {
    "name": "ipython",
    "version": 2
   },
   "file_extension": ".py",
   "mimetype": "text/x-python",
   "name": "python",
   "nbconvert_exporter": "python",
   "pygments_lexer": "ipython2",
   "version": "2.7.6"
  }
 },
 "nbformat": 4,
 "nbformat_minor": 5
}
