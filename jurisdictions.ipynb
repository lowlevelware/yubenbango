{
 "cells": [
  {
   "cell_type": "code",
   "execution_count": 12,
   "outputs": [],
   "source": [
    "import polars as pl"
   ],
   "metadata": {
    "collapsed": false,
    "ExecuteTime": {
     "end_time": "2023-10-21T11:49:59.402100Z",
     "start_time": "2023-10-21T11:49:59.398156Z"
    }
   },
   "id": "d1be6b105d85e1eb"
  },
  {
   "cell_type": "code",
   "execution_count": 13,
   "outputs": [],
   "source": [
    "locale = 'en'\n",
    "jurisdiction = 'todofuken' if locale == 'en' else 'prefecture'"
   ],
   "metadata": {
    "collapsed": false,
    "ExecuteTime": {
     "end_time": "2023-10-21T11:49:59.409557Z",
     "start_time": "2023-10-21T11:49:59.404916Z"
    }
   },
   "id": "369d0bd5b424e342"
  },
  {
   "cell_type": "code",
   "execution_count": 14,
   "outputs": [],
   "source": [
    "postal_code_cats = [2, 3, 5]"
   ],
   "metadata": {
    "collapsed": false,
    "ExecuteTime": {
     "end_time": "2023-10-21T11:49:59.418609Z",
     "start_time": "2023-10-21T11:49:59.411240Z"
    }
   },
   "id": "b8547d4b074fd1f1"
  },
  {
   "cell_type": "code",
   "execution_count": 15,
   "outputs": [
    {
     "data": {
      "text/plain": "shape: (5, 6)\n┌─────────┬────────────┬───────────┬──────┬──────┬───────┐\n│ code    ┆ prefecture ┆ todofuken ┆ zip2 ┆ zip3 ┆ zip5  │\n│ ---     ┆ ---        ┆ ---       ┆ ---  ┆ ---  ┆ ---   │\n│ str     ┆ str        ┆ str       ┆ str  ┆ str  ┆ str   │\n╞═════════╪════════════╪═══════════╪══════╪══════╪═══════╡\n│ 0600000 ┆ 北海道     ┆ Hokkaidou ┆ 06   ┆ 060  ┆ 06000 │\n│ 0640941 ┆ 北海道     ┆ Hokkaidou ┆ 06   ┆ 064  ┆ 06409 │\n│ 0600041 ┆ 北海道     ┆ Hokkaidou ┆ 06   ┆ 060  ┆ 06000 │\n│ 0600042 ┆ 北海道     ┆ Hokkaidou ┆ 06   ┆ 060  ┆ 06000 │\n│ 0640820 ┆ 北海道     ┆ Hokkaidou ┆ 06   ┆ 064  ┆ 06408 │\n└─────────┴────────────┴───────────┴──────┴──────┴───────┘",
      "text/html": "<div><style>\n.dataframe > thead > tr > th,\n.dataframe > tbody > tr > td {\n  text-align: right;\n  white-space: pre-wrap;\n}\n</style>\n<small>shape: (5, 6)</small><table border=\"1\" class=\"dataframe\"><thead><tr><th>code</th><th>prefecture</th><th>todofuken</th><th>zip2</th><th>zip3</th><th>zip5</th></tr><tr><td>str</td><td>str</td><td>str</td><td>str</td><td>str</td><td>str</td></tr></thead><tbody><tr><td>&quot;0600000&quot;</td><td>&quot;北海道&quot;</td><td>&quot;Hokkaidou&quot;</td><td>&quot;06&quot;</td><td>&quot;060&quot;</td><td>&quot;06000&quot;</td></tr><tr><td>&quot;0640941&quot;</td><td>&quot;北海道&quot;</td><td>&quot;Hokkaidou&quot;</td><td>&quot;06&quot;</td><td>&quot;064&quot;</td><td>&quot;06409&quot;</td></tr><tr><td>&quot;0600041&quot;</td><td>&quot;北海道&quot;</td><td>&quot;Hokkaidou&quot;</td><td>&quot;06&quot;</td><td>&quot;060&quot;</td><td>&quot;06000&quot;</td></tr><tr><td>&quot;0600042&quot;</td><td>&quot;北海道&quot;</td><td>&quot;Hokkaidou&quot;</td><td>&quot;06&quot;</td><td>&quot;060&quot;</td><td>&quot;06000&quot;</td></tr><tr><td>&quot;0640820&quot;</td><td>&quot;北海道&quot;</td><td>&quot;Hokkaidou&quot;</td><td>&quot;06&quot;</td><td>&quot;064&quot;</td><td>&quot;06408&quot;</td></tr></tbody></table></div>"
     },
     "execution_count": 15,
     "metadata": {},
     "output_type": "execute_result"
    }
   ],
   "source": [
    "df = pl.read_csv(\"data/jurisdictions.csv\", dtypes={'code': str})\n",
    "for n in postal_code_cats:\n",
    "    df = df.with_columns(df['code'].map_elements(lambda x: x[:n]).alias(f\"zip{n}\"))\n",
    "\n",
    "df.head()"
   ],
   "metadata": {
    "collapsed": false,
    "ExecuteTime": {
     "end_time": "2023-10-21T11:49:59.543456Z",
     "start_time": "2023-10-21T11:49:59.416909Z"
    }
   },
   "id": "d1e3ec7a34d2adbc"
  },
  {
   "cell_type": "code",
   "execution_count": 16,
   "outputs": [
    {
     "data": {
      "text/plain": "shape: (47, 2)\n┌───────────────┬────────────┐\n│ todofuken     ┆ code_count │\n│ ---           ┆ ---        │\n│ str           ┆ u32        │\n╞═══════════════╪════════════╡\n│ Kouchi ken    ┆ 1839       │\n│ Tokyo to      ┆ 8730       │\n│ Tokushima ken ┆ 1140       │\n│ Saga ken      ┆ 988        │\n│ …             ┆ …          │\n│ Okinawa ken   ┆ 1049       │\n│ Fukuoka ken   ┆ 4138       │\n│ Niigata ken   ┆ 5958       │\n│ Mie ken       ┆ 2764       │\n└───────────────┴────────────┘",
      "text/html": "<div><style>\n.dataframe > thead > tr > th,\n.dataframe > tbody > tr > td {\n  text-align: right;\n  white-space: pre-wrap;\n}\n</style>\n<small>shape: (47, 2)</small><table border=\"1\" class=\"dataframe\"><thead><tr><th>todofuken</th><th>code_count</th></tr><tr><td>str</td><td>u32</td></tr></thead><tbody><tr><td>&quot;Kouchi ken&quot;</td><td>1839</td></tr><tr><td>&quot;Tokyo to&quot;</td><td>8730</td></tr><tr><td>&quot;Tokushima ken&quot;</td><td>1140</td></tr><tr><td>&quot;Saga ken&quot;</td><td>988</td></tr><tr><td>&quot;Fukui ken&quot;</td><td>2415</td></tr><tr><td>&quot;Fukushima ken&quot;</td><td>3961</td></tr><tr><td>&quot;Okayama ken&quot;</td><td>2569</td></tr><tr><td>&quot;Toyama ken&quot;</td><td>3327</td></tr><tr><td>&quot;Akita ken&quot;</td><td>2298</td></tr><tr><td>&quot;Yamagata ken&quot;</td><td>2097</td></tr><tr><td>&quot;Aichi ken&quot;</td><td>8767</td></tr><tr><td>&quot;Yamaguchi ken&quot;</td><td>1901</td></tr><tr><td>&hellip;</td><td>&hellip;</td></tr><tr><td>&quot;Hokkaidou&quot;</td><td>9216</td></tr><tr><td>&quot;Aomori ken&quot;</td><td>2234</td></tr><tr><td>&quot;Gunma ken&quot;</td><td>1781</td></tr><tr><td>&quot;Kagawa ken&quot;</td><td>968</td></tr><tr><td>&quot;Shimane ken&quot;</td><td>1327</td></tr><tr><td>&quot;Kanagawa ken&quot;</td><td>3127</td></tr><tr><td>&quot;Hiroshima ken&quot;</td><td>2622</td></tr><tr><td>&quot;Kumamoto ken&quot;</td><td>2138</td></tr><tr><td>&quot;Okinawa ken&quot;</td><td>1049</td></tr><tr><td>&quot;Fukuoka ken&quot;</td><td>4138</td></tr><tr><td>&quot;Niigata ken&quot;</td><td>5958</td></tr><tr><td>&quot;Mie ken&quot;</td><td>2764</td></tr></tbody></table></div>"
     },
     "execution_count": 16,
     "metadata": {},
     "output_type": "execute_result"
    }
   ],
   "source": [
    "df.group_by(jurisdiction).agg(pl.col(\"code\").count().alias(\"code_count\"))"
   ],
   "metadata": {
    "collapsed": false,
    "ExecuteTime": {
     "end_time": "2023-10-21T11:49:59.560254Z",
     "start_time": "2023-10-21T11:49:59.543841Z"
    }
   },
   "id": "f21f4326d31b6bb"
  },
  {
   "cell_type": "code",
   "execution_count": 20,
   "outputs": [],
   "source": [
    "df_list = []\n",
    "\n",
    "for n in postal_code_cats:\n",
    "    cat = f\"zip{n}\"\n",
    "    df_cat = df.select([cat, jurisdiction])\n",
    "    df_cat = df_cat.unique(maintain_order=True)\n",
    "    df_cat.group_by('todofuken').agg(pl.col(cat).count().alias(f\"{cat}_count\"))\n",
    "    df_list.append(df_cat)"
   ],
   "metadata": {
    "collapsed": false,
    "ExecuteTime": {
     "end_time": "2023-10-21T11:51:18.697024Z",
     "start_time": "2023-10-21T11:51:18.676144Z"
    }
   },
   "id": "2bd7b291610e878c"
  },
  {
   "cell_type": "code",
   "execution_count": 21,
   "outputs": [
    {
     "data": {
      "text/plain": "shape: (5, 2)\n┌──────┬───────────┐\n│ zip2 ┆ todofuken │\n│ ---  ┆ ---       │\n│ str  ┆ str       │\n╞══════╪═══════════╡\n│ 06   ┆ Hokkaidou │\n│ 00   ┆ Hokkaidou │\n│ 04   ┆ Hokkaidou │\n│ 07   ┆ Hokkaidou │\n│ 05   ┆ Hokkaidou │\n└──────┴───────────┘",
      "text/html": "<div><style>\n.dataframe > thead > tr > th,\n.dataframe > tbody > tr > td {\n  text-align: right;\n  white-space: pre-wrap;\n}\n</style>\n<small>shape: (5, 2)</small><table border=\"1\" class=\"dataframe\"><thead><tr><th>zip2</th><th>todofuken</th></tr><tr><td>str</td><td>str</td></tr></thead><tbody><tr><td>&quot;06&quot;</td><td>&quot;Hokkaidou&quot;</td></tr><tr><td>&quot;00&quot;</td><td>&quot;Hokkaidou&quot;</td></tr><tr><td>&quot;04&quot;</td><td>&quot;Hokkaidou&quot;</td></tr><tr><td>&quot;07&quot;</td><td>&quot;Hokkaidou&quot;</td></tr><tr><td>&quot;05&quot;</td><td>&quot;Hokkaidou&quot;</td></tr></tbody></table></div>"
     },
     "execution_count": 21,
     "metadata": {},
     "output_type": "execute_result"
    }
   ],
   "source": [
    "df_list[0].head()"
   ],
   "metadata": {
    "collapsed": false,
    "ExecuteTime": {
     "end_time": "2023-10-21T11:51:23.612533Z",
     "start_time": "2023-10-21T11:51:23.590944Z"
    }
   },
   "id": "610ef3e671669b58"
  },
  {
   "cell_type": "code",
   "execution_count": 22,
   "outputs": [
    {
     "data": {
      "text/plain": "shape: (5, 2)\n┌──────┬───────────┐\n│ zip3 ┆ todofuken │\n│ ---  ┆ ---       │\n│ str  ┆ str       │\n╞══════╪═══════════╡\n│ 060  ┆ Hokkaidou │\n│ 064  ┆ Hokkaidou │\n│ 001  ┆ Hokkaidou │\n│ 002  ┆ Hokkaidou │\n│ 065  ┆ Hokkaidou │\n└──────┴───────────┘",
      "text/html": "<div><style>\n.dataframe > thead > tr > th,\n.dataframe > tbody > tr > td {\n  text-align: right;\n  white-space: pre-wrap;\n}\n</style>\n<small>shape: (5, 2)</small><table border=\"1\" class=\"dataframe\"><thead><tr><th>zip3</th><th>todofuken</th></tr><tr><td>str</td><td>str</td></tr></thead><tbody><tr><td>&quot;060&quot;</td><td>&quot;Hokkaidou&quot;</td></tr><tr><td>&quot;064&quot;</td><td>&quot;Hokkaidou&quot;</td></tr><tr><td>&quot;001&quot;</td><td>&quot;Hokkaidou&quot;</td></tr><tr><td>&quot;002&quot;</td><td>&quot;Hokkaidou&quot;</td></tr><tr><td>&quot;065&quot;</td><td>&quot;Hokkaidou&quot;</td></tr></tbody></table></div>"
     },
     "execution_count": 22,
     "metadata": {},
     "output_type": "execute_result"
    }
   ],
   "source": [
    "df_list[1].head()"
   ],
   "metadata": {
    "collapsed": false,
    "ExecuteTime": {
     "end_time": "2023-10-21T11:51:28.412250Z",
     "start_time": "2023-10-21T11:51:28.390110Z"
    }
   },
   "id": "30dbcae59585b93f"
  },
  {
   "cell_type": "code",
   "execution_count": 23,
   "outputs": [
    {
     "data": {
      "text/plain": "shape: (5, 2)\n┌───────┬───────────┐\n│ zip5  ┆ todofuken │\n│ ---   ┆ ---       │\n│ str   ┆ str       │\n╞═══════╪═══════════╡\n│ 06000 ┆ Hokkaidou │\n│ 06409 ┆ Hokkaidou │\n│ 06408 ┆ Hokkaidou │\n│ 00100 ┆ Hokkaidou │\n│ 00280 ┆ Hokkaidou │\n└───────┴───────────┘",
      "text/html": "<div><style>\n.dataframe > thead > tr > th,\n.dataframe > tbody > tr > td {\n  text-align: right;\n  white-space: pre-wrap;\n}\n</style>\n<small>shape: (5, 2)</small><table border=\"1\" class=\"dataframe\"><thead><tr><th>zip5</th><th>todofuken</th></tr><tr><td>str</td><td>str</td></tr></thead><tbody><tr><td>&quot;06000&quot;</td><td>&quot;Hokkaidou&quot;</td></tr><tr><td>&quot;06409&quot;</td><td>&quot;Hokkaidou&quot;</td></tr><tr><td>&quot;06408&quot;</td><td>&quot;Hokkaidou&quot;</td></tr><tr><td>&quot;00100&quot;</td><td>&quot;Hokkaidou&quot;</td></tr><tr><td>&quot;00280&quot;</td><td>&quot;Hokkaidou&quot;</td></tr></tbody></table></div>"
     },
     "execution_count": 23,
     "metadata": {},
     "output_type": "execute_result"
    }
   ],
   "source": [
    "df_list[2].head()"
   ],
   "metadata": {
    "collapsed": false,
    "ExecuteTime": {
     "end_time": "2023-10-21T11:51:33.197209Z",
     "start_time": "2023-10-21T11:51:33.174465Z"
    }
   },
   "id": "3b7570985c37a860"
  }
 ],
 "metadata": {
  "kernelspec": {
   "display_name": "Python 3",
   "language": "python",
   "name": "python3"
  },
  "language_info": {
   "codemirror_mode": {
    "name": "ipython",
    "version": 2
   },
   "file_extension": ".py",
   "mimetype": "text/x-python",
   "name": "python",
   "nbconvert_exporter": "python",
   "pygments_lexer": "ipython2",
   "version": "2.7.6"
  }
 },
 "nbformat": 4,
 "nbformat_minor": 5
}
